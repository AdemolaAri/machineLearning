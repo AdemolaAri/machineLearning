{
  "nbformat": 4,
  "nbformat_minor": 0,
  "metadata": {
    "kernelspec": {
      "display_name": "Python 3",
      "language": "python",
      "name": "python3"
    },
    "language_info": {
      "codemirror_mode": {
        "name": "ipython",
        "version": 3
      },
      "file_extension": ".py",
      "mimetype": "text/x-python",
      "name": "python",
      "nbconvert_exporter": "python",
      "pygments_lexer": "ipython3",
      "version": "3.7.1"
    },
    "widgets": {
      "state": {},
      "version": "1.1.2"
    },
    "colab": {
      "name": "Reg-Linear-Regression-housePrice.ipynb",
      "provenance": [],
      "collapsed_sections": [],
      "include_colab_link": true
    }
  },
  "cells": [
    {
      "cell_type": "markdown",
      "metadata": {
        "id": "view-in-github",
        "colab_type": "text"
      },
      "source": [
        "<a href=\"https://colab.research.google.com/github/AdemolaAri/machineLearning/blob/master/Reg_Linear_Regression_housePrice.ipynb\" target=\"_parent\"><img src=\"https://colab.research.google.com/assets/colab-badge.svg\" alt=\"Open In Colab\"/></a>"
      ]
    },
    {
      "cell_type": "markdown",
      "metadata": {
        "id": "4VSunvTvTZA1",
        "colab_type": "text"
      },
      "source": [
        "\n",
        "<h1><center>Linear Regression: Python</center></h1>\n",
        "\n",
        "\n",
        "<h2>About this Notebook</h2>\n",
        "\n",
        "In this notebook, we learn how to use scikit-learn to implement simple linear regression. We download a Real Estate Evaluation dataset from [UCI Machine Learning Repository](https://archive.ics.uci.edu/ml/datasets/Real+estate+valuation+data+set). Then, we split our data into training and validation sets, create a model using training set, evaluate your model using validation set and use model to predict unknown value.\n"
      ]
    },
    {
      "cell_type": "markdown",
      "metadata": {
        "button": false,
        "new_sheet": false,
        "run_control": {
          "read_only": false
        },
        "id": "_zunfy9fS40H",
        "colab_type": "text"
      },
      "source": [
        "\n",
        "<h2 id=\"understanding_data\">Understanding the Data</h2>\n",
        "\n",
        "Refer to this page for more information about the dataset [UCI Machine Learning Repository - Real Estate Evaluation](https://archive.ics.uci.edu/ml/datasets/Real+estate+valuation+data+set)\n",
        "\n",
        "Attribute Information:\n",
        "\n",
        "The inputs are as follows <br>\n",
        "X1=the transaction date (for example, 2013.250=2013 March, 2013.500=2013 June, etc.) <br>\n",
        "X2=the house age (unit: year) <br>\n",
        "X3=the distance to the nearest MRT station (unit: meter) <br>\n",
        "X4=the number of convenience stores in the living circle on foot (integer) <br>\n",
        "X5=the geographic coordinate, latitude. (unit: degree) <br>\n",
        "X6=the geographic coordinate, longitude. (unit: degree)\n",
        "\n",
        "The output is as follow <br>\n",
        "Y= house price of unit area (10000 New Taiwan Dollar/Ping, where Ping is a local unit, 1 Ping = 3.3 meter squared)"
      ]
    },
    {
      "cell_type": "markdown",
      "metadata": {
        "button": false,
        "new_sheet": false,
        "run_control": {
          "read_only": false
        },
        "id": "VeFs6PFfS40B",
        "colab_type": "text"
      },
      "source": [
        "### Download the Dataset\n"
      ]
    },
    {
      "cell_type": "code",
      "metadata": {
        "id": "E3uRc0X2vW4P",
        "colab_type": "code",
        "outputId": "7e0f0257-5d76-4144-c219-11e6c1fc9cc4",
        "colab": {
          "base_uri": "https://localhost:8080/",
          "height": 219
        }
      },
      "source": [
        "!wget -O housePrice.xlsx https://archive.ics.uci.edu/ml/machine-learning-databases/00477/Real%20estate%20valuation%20data%20set.xlsx"
      ],
      "execution_count": 0,
      "outputs": [
        {
          "output_type": "stream",
          "text": [
            "--2019-09-06 23:30:29--  https://archive.ics.uci.edu/ml/machine-learning-databases/00477/Real%20estate%20valuation%20data%20set.xlsx\n",
            "Resolving archive.ics.uci.edu (archive.ics.uci.edu)... 128.195.10.252\n",
            "Connecting to archive.ics.uci.edu (archive.ics.uci.edu)|128.195.10.252|:443... connected.\n",
            "HTTP request sent, awaiting response... 200 OK\n",
            "Length: 32717 (32K) [application/x-httpd-php]\n",
            "Saving to: ‘housePrice.xlsx’\n",
            "\n",
            "housePrice.xlsx     100%[===================>]  31.95K  --.-KB/s    in 0.07s   \n",
            "\n",
            "2019-09-06 23:30:34 (434 KB/s) - ‘housePrice.xlsx’ saved [32717/32717]\n",
            "\n"
          ],
          "name": "stdout"
        }
      ]
    },
    {
      "cell_type": "code",
      "metadata": {
        "id": "CbRjkYPBvyc0",
        "colab_type": "code",
        "outputId": "3ba41cca-ebb1-4ca6-e85e-41b80236c5c7",
        "colab": {
          "base_uri": "https://localhost:8080/",
          "height": 206
        }
      },
      "source": [
        "import pandas as pd\n",
        "df = pd.read_excel('housePrice.xlsx')\n",
        "df.columns = ['ID', 'date', 'age', 'dis_to_station', 'num_stores', 'lat', 'long', 'price']\n",
        "df.head()"
      ],
      "execution_count": 0,
      "outputs": [
        {
          "output_type": "execute_result",
          "data": {
            "text/html": [
              "<div>\n",
              "<style scoped>\n",
              "    .dataframe tbody tr th:only-of-type {\n",
              "        vertical-align: middle;\n",
              "    }\n",
              "\n",
              "    .dataframe tbody tr th {\n",
              "        vertical-align: top;\n",
              "    }\n",
              "\n",
              "    .dataframe thead th {\n",
              "        text-align: right;\n",
              "    }\n",
              "</style>\n",
              "<table border=\"1\" class=\"dataframe\">\n",
              "  <thead>\n",
              "    <tr style=\"text-align: right;\">\n",
              "      <th></th>\n",
              "      <th>ID</th>\n",
              "      <th>date</th>\n",
              "      <th>age</th>\n",
              "      <th>dis_to_station</th>\n",
              "      <th>num_stores</th>\n",
              "      <th>lat</th>\n",
              "      <th>long</th>\n",
              "      <th>price</th>\n",
              "    </tr>\n",
              "  </thead>\n",
              "  <tbody>\n",
              "    <tr>\n",
              "      <th>0</th>\n",
              "      <td>1</td>\n",
              "      <td>2012.916667</td>\n",
              "      <td>32.0</td>\n",
              "      <td>84.87882</td>\n",
              "      <td>10</td>\n",
              "      <td>24.98298</td>\n",
              "      <td>121.54024</td>\n",
              "      <td>37.9</td>\n",
              "    </tr>\n",
              "    <tr>\n",
              "      <th>1</th>\n",
              "      <td>2</td>\n",
              "      <td>2012.916667</td>\n",
              "      <td>19.5</td>\n",
              "      <td>306.59470</td>\n",
              "      <td>9</td>\n",
              "      <td>24.98034</td>\n",
              "      <td>121.53951</td>\n",
              "      <td>42.2</td>\n",
              "    </tr>\n",
              "    <tr>\n",
              "      <th>2</th>\n",
              "      <td>3</td>\n",
              "      <td>2013.583333</td>\n",
              "      <td>13.3</td>\n",
              "      <td>561.98450</td>\n",
              "      <td>5</td>\n",
              "      <td>24.98746</td>\n",
              "      <td>121.54391</td>\n",
              "      <td>47.3</td>\n",
              "    </tr>\n",
              "    <tr>\n",
              "      <th>3</th>\n",
              "      <td>4</td>\n",
              "      <td>2013.500000</td>\n",
              "      <td>13.3</td>\n",
              "      <td>561.98450</td>\n",
              "      <td>5</td>\n",
              "      <td>24.98746</td>\n",
              "      <td>121.54391</td>\n",
              "      <td>54.8</td>\n",
              "    </tr>\n",
              "    <tr>\n",
              "      <th>4</th>\n",
              "      <td>5</td>\n",
              "      <td>2012.833333</td>\n",
              "      <td>5.0</td>\n",
              "      <td>390.56840</td>\n",
              "      <td>5</td>\n",
              "      <td>24.97937</td>\n",
              "      <td>121.54245</td>\n",
              "      <td>43.1</td>\n",
              "    </tr>\n",
              "  </tbody>\n",
              "</table>\n",
              "</div>"
            ],
            "text/plain": [
              "   ID         date   age  ...       lat       long  price\n",
              "0   1  2012.916667  32.0  ...  24.98298  121.54024   37.9\n",
              "1   2  2012.916667  19.5  ...  24.98034  121.53951   42.2\n",
              "2   3  2013.583333  13.3  ...  24.98746  121.54391   47.3\n",
              "3   4  2013.500000  13.3  ...  24.98746  121.54391   54.8\n",
              "4   5  2012.833333   5.0  ...  24.97937  121.54245   43.1\n",
              "\n",
              "[5 rows x 8 columns]"
            ]
          },
          "metadata": {
            "tags": []
          },
          "execution_count": 2
        }
      ]
    },
    {
      "cell_type": "code",
      "metadata": {
        "id": "8QwPJP-aFUM0",
        "colab_type": "code",
        "colab": {}
      },
      "source": [
        ""
      ],
      "execution_count": 0,
      "outputs": []
    },
    {
      "cell_type": "markdown",
      "metadata": {
        "button": false,
        "new_sheet": false,
        "run_control": {
          "read_only": false
        },
        "id": "4NI28qukS40L",
        "colab_type": "text"
      },
      "source": [
        "<h2 id=\"data_exploration\">Data Exploration</h2>\n",
        "Lets select some features and have a descriptive exploration on our data."
      ]
    },
    {
      "cell_type": "code",
      "metadata": {
        "button": false,
        "collapsed": true,
        "new_sheet": false,
        "run_control": {
          "read_only": false
        },
        "id": "rC6FZJshS40L",
        "colab_type": "code",
        "outputId": "272cbfbf-b978-47a6-88af-3b43e7970613",
        "colab": {
          "base_uri": "https://localhost:8080/",
          "height": 300
        }
      },
      "source": [
        "# summarize the data\n",
        "train_df = df[['age', 'dis_to_station', 'num_stores', 'price']]\n",
        "train_df.describe()"
      ],
      "execution_count": 0,
      "outputs": [
        {
          "output_type": "execute_result",
          "data": {
            "text/html": [
              "<div>\n",
              "<style scoped>\n",
              "    .dataframe tbody tr th:only-of-type {\n",
              "        vertical-align: middle;\n",
              "    }\n",
              "\n",
              "    .dataframe tbody tr th {\n",
              "        vertical-align: top;\n",
              "    }\n",
              "\n",
              "    .dataframe thead th {\n",
              "        text-align: right;\n",
              "    }\n",
              "</style>\n",
              "<table border=\"1\" class=\"dataframe\">\n",
              "  <thead>\n",
              "    <tr style=\"text-align: right;\">\n",
              "      <th></th>\n",
              "      <th>age</th>\n",
              "      <th>dis_to_station</th>\n",
              "      <th>num_stores</th>\n",
              "      <th>price</th>\n",
              "    </tr>\n",
              "  </thead>\n",
              "  <tbody>\n",
              "    <tr>\n",
              "      <th>count</th>\n",
              "      <td>414.000000</td>\n",
              "      <td>414.000000</td>\n",
              "      <td>414.000000</td>\n",
              "      <td>414.000000</td>\n",
              "    </tr>\n",
              "    <tr>\n",
              "      <th>mean</th>\n",
              "      <td>17.712560</td>\n",
              "      <td>1083.885689</td>\n",
              "      <td>4.094203</td>\n",
              "      <td>37.980193</td>\n",
              "    </tr>\n",
              "    <tr>\n",
              "      <th>std</th>\n",
              "      <td>11.392485</td>\n",
              "      <td>1262.109595</td>\n",
              "      <td>2.945562</td>\n",
              "      <td>13.606488</td>\n",
              "    </tr>\n",
              "    <tr>\n",
              "      <th>min</th>\n",
              "      <td>0.000000</td>\n",
              "      <td>23.382840</td>\n",
              "      <td>0.000000</td>\n",
              "      <td>7.600000</td>\n",
              "    </tr>\n",
              "    <tr>\n",
              "      <th>25%</th>\n",
              "      <td>9.025000</td>\n",
              "      <td>289.324800</td>\n",
              "      <td>1.000000</td>\n",
              "      <td>27.700000</td>\n",
              "    </tr>\n",
              "    <tr>\n",
              "      <th>50%</th>\n",
              "      <td>16.100000</td>\n",
              "      <td>492.231300</td>\n",
              "      <td>4.000000</td>\n",
              "      <td>38.450000</td>\n",
              "    </tr>\n",
              "    <tr>\n",
              "      <th>75%</th>\n",
              "      <td>28.150000</td>\n",
              "      <td>1454.279000</td>\n",
              "      <td>6.000000</td>\n",
              "      <td>46.600000</td>\n",
              "    </tr>\n",
              "    <tr>\n",
              "      <th>max</th>\n",
              "      <td>43.800000</td>\n",
              "      <td>6488.021000</td>\n",
              "      <td>10.000000</td>\n",
              "      <td>117.500000</td>\n",
              "    </tr>\n",
              "  </tbody>\n",
              "</table>\n",
              "</div>"
            ],
            "text/plain": [
              "              age  dis_to_station  num_stores       price\n",
              "count  414.000000      414.000000  414.000000  414.000000\n",
              "mean    17.712560     1083.885689    4.094203   37.980193\n",
              "std     11.392485     1262.109595    2.945562   13.606488\n",
              "min      0.000000       23.382840    0.000000    7.600000\n",
              "25%      9.025000      289.324800    1.000000   27.700000\n",
              "50%     16.100000      492.231300    4.000000   38.450000\n",
              "75%     28.150000     1454.279000    6.000000   46.600000\n",
              "max     43.800000     6488.021000   10.000000  117.500000"
            ]
          },
          "metadata": {
            "tags": []
          },
          "execution_count": 3
        }
      ]
    },
    {
      "cell_type": "code",
      "metadata": {
        "id": "OiTwaoAkLTVx",
        "colab_type": "code",
        "outputId": "9267712f-eff0-4134-a911-817cdc1920bb",
        "colab": {
          "base_uri": "https://localhost:8080/",
          "height": 281
        }
      },
      "source": [
        "import matplotlib.pyplot as plt\n",
        "%matplotlib inline\n",
        "train_df.hist()\n",
        "plt.show()"
      ],
      "execution_count": 0,
      "outputs": [
        {
          "output_type": "display_data",
          "data": {
            "image/png": "[encoded data removed]",
            "text/plain": [
              "<Figure size 432x288 with 4 Axes>"
            ]
          },
          "metadata": {
            "tags": []
          }
        }
      ]
    },
    {
      "cell_type": "code",
      "metadata": {
        "id": "V54EillsLtQn",
        "colab_type": "code",
        "outputId": "9c873039-7262-4cc7-fa47-2b149972d9cb",
        "colab": {
          "base_uri": "https://localhost:8080/",
          "height": 283
        }
      },
      "source": [
        "plt.scatter(train_df.age, train_df.price, color='red')\n",
        "plt.xlabel('House Age')\n",
        "plt.ylabel('House Price')\n",
        "plt.show()"
      ],
      "execution_count": 0,
      "outputs": [
        {
          "output_type": "display_data",
          "data": {
            "image/png": "[encoded data removed]",
            "text/plain": [
              "<Figure size 432x288 with 1 Axes>"
            ]
          },
          "metadata": {
            "tags": []
          }
        }
      ]
    },
    {
      "cell_type": "code",
      "metadata": {
        "id": "M4hEJH-nMTqC",
        "colab_type": "code",
        "outputId": "518abc35-08d8-4f45-a42a-ffc4f9b9fcf6",
        "colab": {
          "base_uri": "https://localhost:8080/",
          "height": 283
        }
      },
      "source": [
        "plt.scatter(train_df.dis_to_station, train_df.price, color='red')\n",
        "plt.xlabel('Distance to nearest MRT')\n",
        "plt.ylabel('House Price')\n",
        "plt.show()"
      ],
      "execution_count": 0,
      "outputs": [
        {
          "output_type": "display_data",
          "data": {
            "image/png": "[encoded data removed]",
            "text/plain": [
              "<Figure size 432x288 with 1 Axes>"
            ]
          },
          "metadata": {
            "tags": []
          }
        }
      ]
    },
    {
      "cell_type": "code",
      "metadata": {
        "id": "wEXLeaCMMvB4",
        "colab_type": "code",
        "outputId": "9e36b953-dc44-4522-a50d-5bf8c9321d54",
        "colab": {
          "base_uri": "https://localhost:8080/",
          "height": 283
        }
      },
      "source": [
        "plt.scatter(train_df.num_stores, train_df.price, color='red')\n",
        "plt.xlabel('Number of Stores')\n",
        "plt.ylabel('House Price')\n",
        "plt.show()"
      ],
      "execution_count": 0,
      "outputs": [
        {
          "output_type": "display_data",
          "data": {
            "image/png": "[encoded data removed]",
            "text/plain": [
              "<Figure size 432x288 with 1 Axes>"
            ]
          },
          "metadata": {
            "tags": []
          }
        }
      ]
    },
    {
      "cell_type": "markdown",
      "metadata": {
        "button": false,
        "new_sheet": false,
        "run_control": {
          "read_only": false
        },
        "id": "d_FcmP5yS40a",
        "colab_type": "text"
      },
      "source": [
        "#### Creating train and test dataset\n",
        "Train/Test Split involves splitting the dataset into training and testing sets respectively, which are mutually exclusive. After which, you train with the training set and test with the testing set. \n",
        "This will provide a more accurate evaluation on out-of-sample accuracy because the testing dataset is not part of the dataset that have been used to train the data. It is more realistic for real world problems.\n",
        "\n",
        "This means that we know the outcome of each data point in this dataset, making it great to test with! And since this data has not been used to train the model, the model has no knowledge of the outcome of these data points. So, in essence, it is truly an out-of-sample testing.\n",
        "\n",
        "Lets split our dataset into train and test sets, 80% of the entire data for training, and the 20% for testing. We create a mask to select random rows using __np.random.rand()__ function: "
      ]
    },
    {
      "cell_type": "code",
      "metadata": {
        "button": false,
        "new_sheet": false,
        "run_control": {
          "read_only": false
        },
        "id": "zZGAIJbfS40b",
        "colab_type": "code",
        "colab": {}
      },
      "source": [
        "import numpy as np\n",
        "\n",
        "mask = np.random.rand(len(df)) < 0.8\n",
        "train = train_df[mask]\n",
        "val = train_df[~mask]\n"
      ],
      "execution_count": 0,
      "outputs": []
    },
    {
      "cell_type": "markdown",
      "metadata": {
        "button": false,
        "new_sheet": false,
        "run_control": {
          "read_only": false
        },
        "id": "Aa-zbpf7S40c",
        "colab_type": "text"
      },
      "source": [
        "<h2 id=\"simple_regression\">Simple Regression Model</h2>\n",
        "Linear Regression fits a linear model with coefficients $\\theta = (\\theta_1, ..., \\theta_n)$ to minimize the 'residual sum of squares' between the independent x in the dataset, and the dependent y by the linear approximation. We will use the <b> distance to MRT station </b> to predict the <b> House Price </b>"
      ]
    },
    {
      "cell_type": "markdown",
      "metadata": {
        "button": false,
        "new_sheet": false,
        "run_control": {
          "read_only": false
        },
        "colab_type": "text",
        "id": "MdnyR4bF6gDO"
      },
      "source": [
        "#### Modeling\n",
        "Using sklearn package to model data."
      ]
    },
    {
      "cell_type": "code",
      "metadata": {
        "id": "Lp5pqi1Q6oOc",
        "colab_type": "code",
        "outputId": "1d293d7f-1a34-473c-bae9-5af2ff98d035",
        "colab": {
          "base_uri": "https://localhost:8080/",
          "height": 54
        }
      },
      "source": [
        "from sklearn import linear_model\n",
        "\n",
        "x_train = np.asanyarray(train[['dis_to_station']])\n",
        "y_train = np.asanyarray(train['price'])\n",
        "\n",
        "modelSimpRgr = linear_model.LinearRegression()\n",
        "modelSimpRgr.fit(x_train, y_train)\n",
        "# The coefficients\n",
        "print ('Coefficients: ', modelSimpRgr.coef_)\n",
        "print ('Intercept: ',modelSimpRgr.intercept_)"
      ],
      "execution_count": 0,
      "outputs": [
        {
          "output_type": "stream",
          "text": [
            "Coefficients:  [-0.00764177]\n",
            "Intercept:  46.31366304936584\n"
          ],
          "name": "stdout"
        }
      ]
    },
    {
      "cell_type": "markdown",
      "metadata": {
        "button": false,
        "new_sheet": false,
        "run_control": {
          "read_only": false
        },
        "id": "OUycZpIlS40j",
        "colab_type": "text"
      },
      "source": [
        "#### Plot outputs"
      ]
    },
    {
      "cell_type": "code",
      "metadata": {
        "button": false,
        "collapsed": true,
        "new_sheet": false,
        "run_control": {
          "read_only": false
        },
        "id": "9STsNPcVS40l",
        "colab_type": "code",
        "outputId": "99334df2-cc03-4980-9041-2d1337794703",
        "colab": {
          "base_uri": "https://localhost:8080/",
          "height": 301
        }
      },
      "source": [
        "plt.scatter(x_train, y_train, color='blue')\n",
        "plt.plot(x_train, modelSimpRgr.coef_[0]*x_train + modelSimpRgr.intercept_, '-r')\n",
        "plt.xlabel(\"Distance to MRT Station\")\n",
        "plt.ylabel(\"House Price\")"
      ],
      "execution_count": 0,
      "outputs": [
        {
          "output_type": "execute_result",
          "data": {
            "text/plain": [
              "Text(0, 0.5, 'House Price')"
            ]
          },
          "metadata": {
            "tags": []
          },
          "execution_count": 10
        },
        {
          "output_type": "display_data",
          "data": {
            "image/png": "[encoded data removed]",
            "text/plain": [
              "<Figure size 432x288 with 1 Axes>"
            ]
          },
          "metadata": {
            "tags": []
          }
        }
      ]
    },
    {
      "cell_type": "markdown",
      "metadata": {
        "id": "a66e7j-W_1N2",
        "colab_type": "text"
      },
      "source": [
        "From the regression coefficient and the regression line above, we can deduce that there is a negative relationship between distance to MRT Station and House price i.e. the farther the distance of a particular house to the MRT station, the lower the price of that house, citeris paribus."
      ]
    },
    {
      "cell_type": "markdown",
      "metadata": {
        "button": false,
        "new_sheet": false,
        "run_control": {
          "read_only": false
        },
        "id": "od6mGSG4S40p",
        "colab_type": "text"
      },
      "source": [
        "#### Evaluation\n",
        "we compare the actual values and predicted values to calculate the accuracy of a regression model. Evaluation metrics provide a key role in the development of a model, as it provides insight to areas that require improvement.\n",
        "\n",
        "There are different model evaluation metrics, lets use MSE here to calculate the accuracy of our model based on the test set: \n",
        "<ul>\n",
        "    <li> Mean absolute error: It is the mean of the absolute value of the errors. This is the easiest of the metrics to understand since it’s just average error.</li>\n",
        "    <li> Mean Squared Error (MSE): Mean Squared Error (MSE) is the mean of the squared error. It’s more popular than Mean absolute error because the focus is geared more towards large errors. This is due to the squared term exponentially increasing larger errors in comparison to smaller ones.</li>\n",
        "    <li> Root Mean Squared Error (RMSE): This is the square root of the Mean Square Error. </li>\n",
        "    <li> R-squared is not error, but is a popular metric for accuracy of your model. It represents how close the data are to the fitted regression line. The higher the R-squared, the better the model fits your data. Best possible score is 1.0 and it can be negative (because the model can be arbitrarily worse).</li>\n",
        "</ul>"
      ]
    },
    {
      "cell_type": "code",
      "metadata": {
        "button": false,
        "collapsed": true,
        "new_sheet": false,
        "run_control": {
          "read_only": false
        },
        "scrolled": true,
        "id": "OxYOzONxS40q",
        "colab_type": "code",
        "outputId": "451950af-761e-4256-ca78-b7a78692383b",
        "colab": {
          "base_uri": "https://localhost:8080/",
          "height": 72
        }
      },
      "source": [
        "from sklearn.metrics import r2_score\n",
        "\n",
        "x_validation = np.asanyarray(val[['dis_to_station']])\n",
        "y_validation = np.asanyarray(val['price'])\n",
        "y_predicted = modelSimpRgr.predict(x_validation)\n",
        "\n",
        "print(\"Mean absolute error: %.2f\" % np.mean(np.absolute(y_predicted - y_validation)))\n",
        "print(\"Residual sum of squares (MSE): %.2f\" % np.mean((y_predicted - y_validation) ** 2))\n",
        "print(\"R2-score: %.2f\" % r2_score(y_predicted , y_validation) )"
      ],
      "execution_count": 0,
      "outputs": [
        {
          "output_type": "stream",
          "text": [
            "Mean absolute error: 7.03\n",
            "Residual sum of squares (MSE): 72.06\n",
            "R2-score: 0.39\n"
          ],
          "name": "stdout"
        }
      ]
    },
    {
      "cell_type": "markdown",
      "metadata": {
        "id": "Jr3Dj7W1Dtty",
        "colab_type": "text"
      },
      "source": [
        "<br>\n",
        "\n",
        "\n",
        "<h2 id=\"multiple_regression_model\">Multiple Regression Model</h2>"
      ]
    },
    {
      "cell_type": "markdown",
      "metadata": {
        "id": "VnDdukjyD_Mo",
        "colab_type": "text"
      },
      "source": [
        "In reality, there are multiple variables that predict the price of a house. We can easily conduct a multiple regression model using the same steps as we used for the simple regression model."
      ]
    },
    {
      "cell_type": "markdown",
      "metadata": {
        "button": false,
        "new_sheet": false,
        "run_control": {
          "read_only": false
        },
        "id": "vp7A1DtYS40g",
        "colab_type": "text"
      },
      "source": [
        "#### Modeling\n",
        "Using sklearn package to model data."
      ]
    },
    {
      "cell_type": "code",
      "metadata": {
        "button": false,
        "collapsed": true,
        "new_sheet": false,
        "run_control": {
          "read_only": false
        },
        "colab_type": "code",
        "outputId": "2f53e488-06e1-4f6a-d4c2-5874ab08b9ab",
        "id": "HX-ahl2J6pBI",
        "colab": {
          "base_uri": "https://localhost:8080/",
          "height": 90
        }
      },
      "source": [
        "from sklearn import linear_model\n",
        "modelMtplRgr = linear_model.LinearRegression()\n",
        "\n",
        "x_train2 = np.asanyarray(train.iloc[:, :-1])\n",
        "y_train2 = np.asanyarray(train['price'])\n",
        "\n",
        "modelMtplRgr.fit (x_train2, y_train2)\n",
        "# The coefficients\n",
        "print('Multiple Regression Model', '\\n')\n",
        "print ('Coefficients: ', modelMtplRgr.coef_)\n",
        "print ('Intercept: ',modelMtplRgr.intercept_)"
      ],
      "execution_count": 0,
      "outputs": [
        {
          "output_type": "stream",
          "text": [
            "Multiple Regression Model \n",
            "\n",
            "Coefficients:  [-0.24904367 -0.00573767  1.29553787]\n",
            "Intercept:  43.44841505415558\n"
          ],
          "name": "stdout"
        }
      ]
    },
    {
      "cell_type": "markdown",
      "metadata": {
        "id": "A9mQvtZTF6Lu",
        "colab_type": "text"
      },
      "source": [
        "####Evalution"
      ]
    },
    {
      "cell_type": "code",
      "metadata": {
        "id": "o4qu269ZGCmS",
        "colab_type": "code",
        "outputId": "5844ef62-f28d-4876-8dbb-4e330aa6ccd8",
        "colab": {
          "base_uri": "https://localhost:8080/",
          "height": 72
        }
      },
      "source": [
        "x_val2 = np.asanyarray(val.iloc[:, :-1])\n",
        "y_val2 = np.asanyarray(val['price'])\n",
        "\n",
        "y_pred2= modelMtplRgr.predict(x_val2)\n",
        "\n",
        "print(\"Mean absolute error: %.2f\" % np.mean(np.absolute(y_pred2 - y_val2)))\n",
        "print(\"Residual sum of squares: %.2f\" % np.mean((y_pred2 - y_val2) ** 2))\n",
        "#print('Variance score: %.2f' % modelMtplRgr.score(x_val2, y_val2))\n",
        "print(\"R2-score: %.2f\" % r2_score(y_pred2 , y_val2) )"
      ],
      "execution_count": 0,
      "outputs": [
        {
          "output_type": "stream",
          "text": [
            "Mean absolute error: 5.94\n",
            "Residual sum of squares: 54.09\n",
            "R2-score: 0.59\n"
          ],
          "name": "stdout"
        }
      ]
    },
    {
      "cell_type": "markdown",
      "metadata": {
        "id": "9XDfKzj8K0lc",
        "colab_type": "text"
      },
      "source": [
        "Improves our model very slightly."
      ]
    },
    {
      "cell_type": "markdown",
      "metadata": {
        "id": "_1rUTvrtKL0s",
        "colab_type": "text"
      },
      "source": [
        "Thank you for reading!\n",
        "\n",
        "<h4>Author:  <a href=\"https://www.linkedin.com/in/ademolabuwo\">Ademola Arigbabuwo</a></h4>"
      ]
    }
  ]
}